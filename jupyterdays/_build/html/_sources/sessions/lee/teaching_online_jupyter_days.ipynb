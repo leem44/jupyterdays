{
 "cells": [
  {
   "cell_type": "markdown",
   "metadata": {
    "slideshow": {
     "slide_type": "slide"
    }
   },
   "source": [
    "# Teaching in an online setting\n",
    "<img src=\"https://students.ubc.ca/sites/students.ubc.ca/files/styles/header_image_tablet_1_5x/public/flagpole_20130926__Geoff-Lister-2.jpg?itok=jR8oytJ9&timestamp=1481586233/\" width = \"1200\">\n",
    "\n",
    "Melissa Lee <br>\n",
    "Department of Statistics<br>\n",
    "University of British Columbia <br> \n",
    "Aug 13, 2020\n",
    "\n",
    "<img src=\"img/ubc-logo-2018-fullsig-blue-rgb72.jpg\" />"
   ]
  },
  {
   "cell_type": "markdown",
   "metadata": {
    "slideshow": {
     "slide_type": "slide"
    }
   },
   "source": [
    "## Overview \n",
    "1. Outline of the Introduction to Data Science (DSCI100) course \n",
    "2. Challenges with online transition\n",
    "3. Strategies for active learning and group work\n",
    "4. Results from student surveys \n",
    "5. Key takeaways and lessons learned"
   ]
  },
  {
   "cell_type": "markdown",
   "metadata": {
    "slideshow": {
     "slide_type": "slide"
    }
   },
   "source": [
    "## Outline of DSCI100: In-Person Version \n",
    "<p> <img src=\"https://cpb-us-e1.wpmucdn.com/blogs.uoregon.edu/dist/f/255/files/2015/05/active-learning-17c4bho.jpg\"  align=\"left\" width = \"800\" /></p>\n",
    "\n",
    "- Class structure: \n",
    "    - 1.5 hour lectures\n",
    "    - 15 min - 20 min of lecture at the start of class\n",
    "    - Students work in class on [worksheets using Jupyter Notebook](https://hub-prod-dsci.stat.ubc.ca/jupyter/user/616/notebooks/dsci-100/materials/worksheet_01/worksheet_01.ipynb)\n",
    "    - Teaching team circulate around room to help students through worksheets/tutorials \n",
    "    - Class activity + wrap up at the end of the lecture \n",
    "- Assessments: \n",
    "    - Worksheets & tutorials (Jupyter Notebooks)\n",
    "    - Group project\n",
    "    - Online quizzes via Canvas\n",
    "\n",
    "Photo source: https://davidwacks.uoregon.edu/"
   ]
  },
  {
   "cell_type": "markdown",
   "metadata": {
    "slideshow": {
     "slide_type": "slide"
    }
   },
   "source": [
    "## Transitioning Online: Activity (~5 min) \n",
    "<p> <img src=\"https://learningspaces.ubc.ca/sites/learningspaces.ubc.ca/files/styles/room_images/public/initiatives-images/IMG_1999.jpg?itok=Th9dath4&c=feafd7f5ab7d60c363652d23929d0aee\"  width=\"800\" align = \"right\" /></p>\n",
    "In your groups, discuss the following questions: \n",
    "\n",
    "a. What do you think are some of the biggest challenges with teaching online? \n",
    "<br>\n",
    "-\n",
    "<br>\n",
    "-\n",
    "<br>\n",
    "-\n",
    "<br>\n",
    "b. What are some strategies you have tried (or would try) to mitigate those challenges?\n",
    "<br>\n",
    "-\n",
    "<br>\n",
    "-\n",
    "<br>\n",
    "-\n",
    "<br>"
   ]
  },
  {
   "cell_type": "markdown",
   "metadata": {
    "slideshow": {
     "slide_type": "slide"
    }
   },
   "source": [
    "## Student Challenges with Online Transition\n",
    "\n",
    "- Student survey one week before the course start date\n",
    "- All 117 students in the class filled out the survey \n",
    "\n",
    "> Thinking about our upcoming DSCI100 class, what, if anything, are you most worried/anxious about?\n",
    "\n",
    "<p> <img src=\"img/survey_worries.png\"  width=\"1200\" align = \"left\" /></p>"
   ]
  },
  {
   "cell_type": "markdown",
   "metadata": {
    "slideshow": {
     "slide_type": "slide"
    }
   },
   "source": [
    "## Student Challenges with Online Transition\n",
    "\n",
    "### Thinking about our upcoming DSCI100 class, what, if anything, are you most worried/anxious about?\n",
    "- Online assessments\n",
    "> *I am a bit worried about how the online exams will be conducted!*\n",
    "\n",
    "- Technical issues\n",
    "> *Technical issues, group work efficiency without in-person meeting*\n",
    "\n",
    "\n",
    "- Different student situations \n",
    "> *The course is online which makes it automatically harder for me to do well :( because I cannot for the life of me do homework at home...* <br> <br>\n",
    "> *Having to wake up at 4am to attend lectures*\n"
   ]
  },
  {
   "cell_type": "markdown",
   "metadata": {
    "slideshow": {
     "slide_type": "slide"
    }
   },
   "source": [
    "## Student Challenges with Online Transition\n",
    "\n",
    "### Thinking about our upcoming DSCI100 class, what, if anything, are you most worried/anxious about?\n",
    "\n",
    "- Expectations\n",
    "> *not too sure how the class is going to be, especially under current situation*\n",
    "\n",
    "- Community\n",
    "> *Since I'm a visual person, I'm a bit worried about online courses in which I can't see the professor. I'm not sure how I will be able to get help from TAs and communicate with the professor and other classmates.* <br> <br>\n",
    "> *After taking the online courses, I realize that the break out group is really difficult to achieve due to the bad internet environment of some students, and it always wastes a lot of the class time. Also, there is no one talking and do any working at all.*"
   ]
  },
  {
   "cell_type": "markdown",
   "metadata": {
    "slideshow": {
     "slide_type": "slide"
    }
   },
   "source": [
    "## Instructor Challenges with Online Transition\n",
    "- Online assessments \n",
    "- Technical issues \n",
    "- Accommodating different students' needs\n",
    "- Setting expectations\n",
    "- Creating community among students, TAs and instructor \n"
   ]
  },
  {
   "cell_type": "markdown",
   "metadata": {
    "slideshow": {
     "slide_type": "slide"
    }
   },
   "source": [
    "## Outline of DSCI100: Online Version \n",
    "<img src = \"img/canvas.png\" width = \"600\" align = \"right\">\n",
    "\n",
    "- Synchronous lectures \n",
    "- Class structure: \n",
    "    - 15 min to 20 min of lecture at the start of class\n",
    "    - Students go to pre-assigned breakout rooms \n",
    "    - Students work in class on [worksheets using Jupyter Notebook](https://hub-prod-dsci.stat.ubc.ca/jupyter/user/616/notebooks/dsci-100/materials/worksheet_01/worksheet_01.ipynb)\n",
    "    - Teaching team circulates between breakout rooms\n",
    "    - TAs & instructors answer questions\n",
    "    - Class activity + wrap up at the end of lecture "
   ]
  },
  {
   "cell_type": "markdown",
   "metadata": {
    "slideshow": {
     "slide_type": "slide"
    }
   },
   "source": [
    "## Strategies to overcome challenges\n",
    "\n",
    "- Online assessments\n",
    "    - Online quizzes invigilated with Zoom\n",
    "- Technical issues\n",
    "    - List of resources on course page \n",
    "- Accommodating different students' needs\n",
    "    - Recorded lectures \n",
    "    - List of resources on course page \n",
    "- Setting expectations\n",
    "    - Page on course website \n",
    "    - First day of class"
   ]
  },
  {
   "cell_type": "markdown",
   "metadata": {
    "slideshow": {
     "slide_type": "slide"
    }
   },
   "source": [
    "## Strategies for active learning and group work\n",
    "- Creating community among students, TAs and instructor\n",
    "    - Whiteboard + polling for class discussion \n",
    "    - Breakout rooms\n",
    "    - Activities with Google Docs \n",
    "    - Group discussion board on Canvas \n",
    "    - Peer Scholar for project peer review\n",
    "    - Piazza discussion board \n",
    "\n",
    "<img src = \"img/whiteboard.png\">"
   ]
  },
  {
   "cell_type": "markdown",
   "metadata": {
    "slideshow": {
     "slide_type": "slide"
    }
   },
   "source": [
    "# Student survey results \n",
    "\n",
    "- Mid-course survey sent out in week 4 of 6 in the course \n",
    "- 48% response rate \n",
    "\n",
    "### On a scale of 1-10 (with 10 being the highest, meaning you like it a lot), rate how much you like using Jupyter on our server as where work on your worksheets and tutorials\n",
    "<img src = \"survey/jupyter.png\" width = \"700\">"
   ]
  },
  {
   "cell_type": "markdown",
   "metadata": {
    "slideshow": {
     "slide_type": "slide"
    }
   },
   "source": [
    "# Student survey results\n",
    "\n",
    "### On a scale of 1-10 (with 10 being the highest, meaning you like it a lot), rate how much you like the classroom format we are using (recorded synchronous real-time lectures with time given to work in groups on worksheets):\n",
    "<img src = \"survey/class_format.png\" alt = \"class_format\" width = \"700\">"
   ]
  },
  {
   "cell_type": "markdown",
   "metadata": {
    "slideshow": {
     "slide_type": "slide"
    }
   },
   "source": [
    "# Student survey results\n",
    "\n",
    "## What is working for you in this course and what should we keep doing this semester (and next time we teach the course)?\n",
    "\n",
    "- Jupyter Notebook worksheets\n",
    "> *I love the use of Jupyter for assignments. It's so convenient to just have all the instructions and software in one place and makes writing homework a breeze.*\n",
    "\n",
    "- Breakout rooms\n",
    "> *I really like the breakout rooms. I find that my group members and I work through the worksheets and tutorials together and everybody helps everybody out.* \n",
    "<br><br>\n",
    "> *Working on worksheets and tutorials in groups, with a TA. It is super easy to ask questions when you're unsure of something, and everyone learns together.*\n",
    "<br><br>\n",
    "> *Breakout rooms are a great idea especially when someone has questions, it is way easier to get help than in the main room. Since we can even share screen content for the TAs.*"
   ]
  },
  {
   "cell_type": "markdown",
   "metadata": {
    "slideshow": {
     "slide_type": "slide"
    }
   },
   "source": [
    "# Student survey results\n",
    "\n",
    "## What is working for you in this course and what should we keep doing this semester (and next time we teach the course)?\n",
    "- Fixed groups \n",
    "> *I really loved that we were given fixed groups to work with! It gave me the opportunity to really get comfortable with the people I was working with and made the course very enjoyable!*\n",
    "\n",
    "- Dedicated time in class \n",
    "> *Having time during the tutorials to work in our project groups has been helpful, especially considering it is online.*\n",
    "<br>\n",
    "\n",
    "- Canvas page\n",
    "> *I really like how organized this class is. The canvas page is really straight forward and it's clear what needs to be done each week. I also really like that we have worksheets and tutorials for this class. It makes it easy for me to consolidate the material I'm learning for this course.*"
   ]
  },
  {
   "cell_type": "markdown",
   "metadata": {
    "slideshow": {
     "slide_type": "slide"
    }
   },
   "source": [
    "# Student survey results\n",
    "## What is NOT working for you in this course and should we consider doing something different this semester (if we can) and next time we teach the course?\n",
    "\n",
    "- Quiz format\n",
    "> *Taking the quiz with only one question at a time and no going back. I know it is supposed to help prevent cheating, but not seeing all the questions makes it hard to time manage. Maybe have all the questions of the same varying hardness, or allow viewing of all the questions.*\n",
    "\n",
    "- In-person help\n",
    "> *cant meet face to face with group members, cant meet face to face with ta for assignment help etc*\n",
    "\n",
    "- TA support\n",
    "> *Please assign a TA to monitor each breakout room and stay there.* \n",
    "\n",
    "- Group project collaboration\n",
    "> *In groups, not everyone can work on the same file at once. If this could be added, it would make group work A LOT easier to manage. We had to setup Github, which a lot of people didn't know how to use. Overall, group work is turning out to not be too pleasant of an experience because of this limitation.*\n",
    "\n",
    "- Technical issues\n",
    "> *it gets laggy on collab ultra and Jupyter sometimes don't work*\n"
   ]
  },
  {
   "cell_type": "markdown",
   "metadata": {
    "slideshow": {
     "slide_type": "slide"
    }
   },
   "source": [
    "## Key Takeaways\n",
    "\n",
    "- TAs during lecture was a big help\n",
    "- Students liked breakout rooms + Jupyter Notebooks\n",
    "- Set expectations about academic integrity and reasoning for exam format early in the course \n",
    "- Technical issues are hard to avoid\n",
    "<img src = \"img/survey_excited_visualization.png\" align = \"right\" width = \"1000\"/>"
   ]
  },
  {
   "cell_type": "markdown",
   "metadata": {
    "slideshow": {
     "slide_type": "slide"
    }
   },
   "source": [
    "# Thank you! \n"
   ]
  }
 ],
 "metadata": {
  "celltoolbar": "Slideshow",
  "kernelspec": {
   "display_name": "Python 3",
   "language": "python",
   "name": "python3"
  },
  "language_info": {
   "codemirror_mode": {
    "name": "ipython",
    "version": 3
   },
   "file_extension": ".py",
   "mimetype": "text/x-python",
   "name": "python",
   "nbconvert_exporter": "python",
   "pygments_lexer": "ipython3",
   "version": "3.7.6"
  }
 },
 "nbformat": 4,
 "nbformat_minor": 4
}
