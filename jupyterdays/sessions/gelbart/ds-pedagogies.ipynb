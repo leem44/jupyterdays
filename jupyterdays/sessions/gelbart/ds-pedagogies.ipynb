{
 "cells": [
  {
   "cell_type": "markdown",
   "metadata": {},
   "source": [
    "## Effective pedagogies for teaching data science\n",
    "\n",
    "Mike Gelbart\n",
    "\n",
    "UBC Jupyter Days 2020"
   ]
  },
  {
   "cell_type": "markdown",
   "metadata": {},
   "source": [
    "In this session I will discuss a few tips for teaching data science, especially with Jupyter notebooks:\n",
    "\n",
    "- [Problem-based learning](https://www.queensu.ca/ctl/teaching-support/instructional-strategies/problem-based-learning)\n",
    "- [Live coding](https://en.wikipedia.org/wiki/Live_coding)\n",
    "- My implementation of [think-pair-share](https://en.wikipedia.org/wiki/Think-pair-share).\n",
    "- Real-time collaborative documents (perfect for online teaching!).\n",
    "- (Time-permitting) Some thoughts on teaching in general."
   ]
  },
  {
   "cell_type": "code",
   "execution_count": null,
   "metadata": {},
   "outputs": [],
   "source": []
  },
  {
   "cell_type": "code",
   "execution_count": null,
   "metadata": {},
   "outputs": [],
   "source": []
  }
 ],
 "metadata": {
  "kernelspec": {
   "display_name": "Python 3",
   "language": "python",
   "name": "python3"
  },
  "language_info": {
   "codemirror_mode": {
    "name": "ipython",
    "version": 3
   },
   "file_extension": ".py",
   "mimetype": "text/x-python",
   "name": "python",
   "nbconvert_exporter": "python",
   "pygments_lexer": "ipython3",
   "version": "3.7.6"
  }
 },
 "nbformat": 4,
 "nbformat_minor": 4
}
