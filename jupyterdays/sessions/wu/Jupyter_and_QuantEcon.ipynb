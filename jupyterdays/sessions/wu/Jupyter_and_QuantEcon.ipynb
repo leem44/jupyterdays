{
 "cells": [
  {
   "cell_type": "markdown",
   "metadata": {},
   "source": [
    "# Jupyter and QuantEcon\n",
    "\n",
    "Peifan Wu (Postdoc @ Vancouver School of Economics, Intructor of ECON323)"
   ]
  },
  {
   "cell_type": "markdown",
   "metadata": {},
   "source": [
    "## About QuantEcon\n",
    "\n",
    "[QuantEcon](https://quantecon.org/) is a nonprofit organization dedicated to improving economic modeling by enhancing computational tools for economists. In particular, it provides three sets of lectures:\n",
    "- QuantEcon with Python\n",
    "    - Basic: Introductory\n",
    "    - Advanced: Tools in (macro)economic Research\n",
    "- QuantEcon with Julia\n",
    "- **QuantEcon DataScience**\n",
    "\n",
    "### QuantEcon DataScience\n",
    "\n",
    "[QuantEcon DataScience](https://datascience.quantecon.org/) presents lectures on (Python) programming, data science, and economics.\n",
    "- Consists of different parts\n",
    "    - [Python Fundamentals](https://datascience.quantecon.org/python_fundamentals/): Basic operations, collections, control flow, functions, etc.\n",
    "    - [Scientific Computing](https://datascience.quantecon.org/scientific/): Brief intro to Numpy and Scipy; Optimizations; Basic Applications in Economics\n",
    "    - [Pandas](https://datascience.quantecon.org/pandas/): Playing around with Pandas DataFrames\n",
    "    - [Applications](https://datascience.quantecon.org/applications/): Case studies. More advanced techniques in visualization; More statistical methods and machine learning in Economics\n",
    "- Taught in various places\n",
    "    - Utilize all the course contents: UBC, Huazhong University of Science and Technology\n",
    "    - Partly used: 5+ schools around the world (NYU, PennState, Peking-HSBC Business School, NUS)\n",
    "- Good Resource for Self-study\n",
    "    - Lectures in the form of Jupyter notebooks [Github Repository](https://github.com/QuantEcon/quantecon-notebooks-datascience.git)\n",
    "    - [Discourse forum](https://discourse.quantecon.org/) for Q&A"
   ]
  },
  {
   "cell_type": "markdown",
   "metadata": {},
   "source": [
    "## Jupyter and QuantEcon DataScience Lectures\n",
    "\n",
    "### Running the Lectures with Jupyter\n",
    "\n",
    "We offer several options to run the lectures:\n",
    "- [Local Installation](https://datascience.quantecon.org/introduction/local_install.html) (*not recommended*) running the notebooks offline and locally\n",
    "- Running on the cloud, with NBGitPuller(https://github.com/jupyterhub/nbgitpuller) fetching the latest version of the notebooks\n",
    "    - Google Colab\n",
    "    - [ubc.syzygy.ca](https://ubc.syzygy.ca/)\n",
    "    - [pims.syzygy.ca](https://pims.syzygy.ca/)\n",
    "    - We can help setup Jupyter Hubs if people want to teach with this material\n",
    "    \n",
    "(Demo: Navigation Bar)\n",
    "\n",
    "Advantages:\n",
    "- A uniform environment saves teaching time from software installation\n",
    "- In-class demonstrations can be easily shared and fully replicated by the students\n",
    "\n",
    "### Writing/Updating Lectures\n",
    "\n",
    "We write the lectures with `reStructuredText`(rst) file format. For webpage formatting, we include custom environments (`warning`, `exercise`, etc).\n",
    "\n",
    "Then the [Jupinx](https://jupinx.quantecon.org/) tool converts `rst` files into a website via Jupyter Notebooks. The name of [Jupinx](https://jupinx.quantecon.org/) comes from Jupyter + Sphinx.\n",
    "- [Jupinx](https://jupinx.quantecon.org/) generates several versions of notebooks: original vs executed, website vs local ones\n",
    "- WYSIWYG\n",
    "- The source files are synchronized from Github repositories, and compilations are on AWS clusters.\n",
    "\n",
    "For web-based data, we cache the data we need on AWS bucket.\n",
    "- Fetching data online depends on the stability of the API, and the Internet. Not ideal for teaching.\n",
    "- Some data are relatively large and takes time for the Jupyter notebook to download.\n",
    "- Easy and consistent to maintain."
   ]
  },
  {
   "cell_type": "markdown",
   "metadata": {},
   "source": [
    "## Teaching\n",
    "\n",
    "### Instructor's Experience\n",
    "\n",
    "- Code and execute in class, immediate feedback from the students\n",
    "- Students vary in programming background. Skip the hardest steps...\n",
    "- Explain in detail the meaning of the codes, and do variations\n",
    "- Remote teaching through Canvas is slick!\n",
    "\n",
    "### Students' Feedback\n",
    "(Mean 4.5/5.0, IM 4.7/5.0 -- not bad!) The students love the comprehensive selection of the topics and the inter-discipline course material. The setting of this course is perfect for online teaching during COVID-19 as well.\n",
    "\n",
    "Feedback and comments:\n",
    "- *It touches too many topic without spending sufficient time on each of them*\n",
    "    - We aim at an introductory course that covers a wide range of topics\n",
    "    - We don't require previous knowledge on machine learning\n",
    "- *Focus on the machine learning portion*\n",
    "    - This course is more about economics\n",
    "    - Maybe machine learning in data science programs?\n",
    "- *This class would greatly benefit from a flipped class format*\n",
    "    - Instead of going through the lectures one by one, we can put more course material for reading and give interactive coding sessions\n",
    "    - More interactive options?\n",
    "   \n",
    "### Final Project Showcase\n",
    "The students are supposed to work on a [final project](https://github.com/ubcecon/ECON323_2020/blob/master/final_project.md) at the end of the semester and we showcase their projects [here](https://datascience.quantecon.org/projects.html) with their permissions.\n",
    "- Resume building, advertising, cross-reference..."
   ]
  }
 ],
 "metadata": {
  "kernelspec": {
   "display_name": "Python 3",
   "language": "python",
   "name": "python3"
  },
  "language_info": {
   "codemirror_mode": {
    "name": "ipython",
    "version": 3
   },
   "file_extension": ".py",
   "mimetype": "text/x-python",
   "name": "python",
   "nbconvert_exporter": "python",
   "pygments_lexer": "ipython3",
   "version": "3.7.7"
  }
 },
 "nbformat": 4,
 "nbformat_minor": 4
}
